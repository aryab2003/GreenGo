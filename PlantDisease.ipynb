{
  "nbformat": 4,
  "nbformat_minor": 0,
  "metadata": {
    "colab": {
      "provenance": [],
      "gpuType": "T4",
      "mount_file_id": "1k-a2pb_RJtgEX2YBgDX6n8m-p0hWFdcQ",
      "authorship_tag": "ABX9TyPA/PqVlpR/2H4izxGLaye+",
      "include_colab_link": true
    },
    "kernelspec": {
      "name": "python3",
      "display_name": "Python 3"
    },
    "language_info": {
      "name": "python"
    },
    "accelerator": "GPU"
  },
  "cells": [
    {
      "cell_type": "markdown",
      "metadata": {
        "id": "view-in-github",
        "colab_type": "text"
      },
      "source": [
        "<a href=\"https://colab.research.google.com/github/aryab2003/GreenGo/blob/main/PlantDisease.ipynb\" target=\"_parent\"><img src=\"https://colab.research.google.com/assets/colab-badge.svg\" alt=\"Open In Colab\"/></a>"
      ]
    },
    {
      "cell_type": "code",
      "execution_count": null,
      "metadata": {
        "id": "RlcFc0jgveBX"
      },
      "outputs": [],
      "source": [
        "import random\n",
        "random.seed(0)\n",
        "\n",
        "import numpy as np\n",
        "np.random.seed(0)\n",
        "\n",
        "import tensorflow as tf\n",
        "tf.random.set_seed(0)"
      ]
    },
    {
      "cell_type": "code",
      "source": [
        "import os\n",
        "import json\n",
        "from zipfile import ZipFile\n",
        "from PIL import Image\n",
        "import matplotlib.pyplot as plt\n",
        "import matplotlib.image as mpimg\n",
        "from tensorflow.keras.preprocessing.image import ImageDataGenerator\n",
        "from tensorflow.keras import layers,models"
      ],
      "metadata": {
        "id": "kd5Sem90v3TB"
      },
      "execution_count": null,
      "outputs": []
    },
    {
      "cell_type": "code",
      "source": [
        "!mkdir -p ~/.kaggle\n",
        "!cp kaggle.json ~/.kaggle/\n",
        "!chmod 600 ~/.kaggle/kaggle.json"
      ],
      "metadata": {
        "colab": {
          "base_uri": "https://localhost:8080/"
        },
        "id": "bchs3Qd0xCsJ",
        "outputId": "1976abc1-a29b-43ba-ed19-9aa6637b193d"
      },
      "execution_count": null,
      "outputs": [
        {
          "output_type": "stream",
          "name": "stdout",
          "text": [
            "cp: cannot stat 'kaggle.json': No such file or directory\n",
            "chmod: cannot access '/root/.kaggle/kaggle.json': No such file or directory\n"
          ]
        }
      ]
    },
    {
      "cell_type": "code",
      "source": [
        "!pip install"
      ],
      "metadata": {
        "colab": {
          "base_uri": "https://localhost:8080/"
        },
        "id": "xDPC1SaHwRme",
        "outputId": "61cc72ed-8360-4724-a22d-a5210830b81c"
      },
      "execution_count": null,
      "outputs": [
        {
          "output_type": "stream",
          "name": "stdout",
          "text": [
            "Requirement already satisfied: kaggle in /usr/local/lib/python3.10/dist-packages (1.6.14)\n",
            "Requirement already satisfied: six>=1.10 in /usr/local/lib/python3.10/dist-packages (from kaggle) (1.16.0)\n",
            "Requirement already satisfied: certifi>=2023.7.22 in /usr/local/lib/python3.10/dist-packages (from kaggle) (2024.6.2)\n",
            "Requirement already satisfied: python-dateutil in /usr/local/lib/python3.10/dist-packages (from kaggle) (2.8.2)\n",
            "Requirement already satisfied: requests in /usr/local/lib/python3.10/dist-packages (from kaggle) (2.31.0)\n",
            "Requirement already satisfied: tqdm in /usr/local/lib/python3.10/dist-packages (from kaggle) (4.66.4)\n",
            "Requirement already satisfied: python-slugify in /usr/local/lib/python3.10/dist-packages (from kaggle) (8.0.4)\n",
            "Requirement already satisfied: urllib3 in /usr/local/lib/python3.10/dist-packages (from kaggle) (2.0.7)\n",
            "Requirement already satisfied: bleach in /usr/local/lib/python3.10/dist-packages (from kaggle) (6.1.0)\n",
            "Requirement already satisfied: webencodings in /usr/local/lib/python3.10/dist-packages (from bleach->kaggle) (0.5.1)\n",
            "Requirement already satisfied: text-unidecode>=1.3 in /usr/local/lib/python3.10/dist-packages (from python-slugify->kaggle) (1.3)\n",
            "Requirement already satisfied: charset-normalizer<4,>=2 in /usr/local/lib/python3.10/dist-packages (from requests->kaggle) (3.3.2)\n",
            "Requirement already satisfied: idna<4,>=2.5 in /usr/local/lib/python3.10/dist-packages (from requests->kaggle) (3.7)\n"
          ]
        }
      ]
    },
    {
      "cell_type": "code",
      "source": [
        "!kaggle datasets download -d emmarex/plantdisease"
      ],
      "metadata": {
        "colab": {
          "base_uri": "https://localhost:8080/"
        },
        "id": "opA-RtDGwiAX",
        "outputId": "0eae3536-db6d-4669-8d1e-e69ffab6a086"
      },
      "execution_count": null,
      "outputs": [
        {
          "output_type": "stream",
          "name": "stdout",
          "text": [
            "Dataset URL: https://www.kaggle.com/datasets/emmarex/plantdisease\n",
            "License(s): unknown\n",
            "Downloading plantdisease.zip to /content\n",
            " 97% 641M/658M [00:11<00:00, 95.0MB/s]\n",
            "100% 658M/658M [00:11<00:00, 60.2MB/s]\n"
          ]
        }
      ]
    },
    {
      "cell_type": "code",
      "source": [
        "dataset= ZipFile('/content/plantdisease.zip')\n",
        "dataset.extractall()\n",
        "print(os.listdir('/content/PlantVillage'))"
      ],
      "metadata": {
        "colab": {
          "base_uri": "https://localhost:8080/"
        },
        "id": "jT5P7zTzxL5J",
        "outputId": "120c3519-300e-4e0a-a8bf-c04f9e530193"
      },
      "execution_count": null,
      "outputs": [
        {
          "output_type": "stream",
          "name": "stdout",
          "text": [
            "['Tomato_Late_blight', 'Tomato_Leaf_Mold', 'Tomato_healthy', 'Pepper__bell___Bacterial_spot', 'Potato___healthy', 'Tomato_Early_blight', 'Tomato_Spider_mites_Two_spotted_spider_mite', 'Tomato__Tomato_YellowLeaf__Curl_Virus', 'Potato___Early_blight', 'Tomato__Tomato_mosaic_virus', 'Pepper__bell___healthy', 'Tomato_Bacterial_spot', 'Tomato__Target_Spot', 'Tomato_Septoria_leaf_spot', 'Potato___Late_blight']\n"
          ]
        }
      ]
    },
    {
      "cell_type": "code",
      "source": [
        "img_size=224\n",
        "batch_size=32"
      ],
      "metadata": {
        "id": "niQ19wVF5OlZ"
      },
      "execution_count": null,
      "outputs": []
    },
    {
      "cell_type": "code",
      "source": [
        "data_gen= ImageDataGenerator(rescale=1./255,\n",
        "                            validation_split=0.2)"
      ],
      "metadata": {
        "id": "D9TIdLx65WZC"
      },
      "execution_count": null,
      "outputs": []
    },
    {
      "cell_type": "code",
      "source": [
        "train_generator= data_gen.flow_from_directory('/content/PlantVillage',\n",
        "                                            target_size=(img_size,img_size),\n",
        "                                            batch_size=batch_size,\n",
        "                                            subset='training',\n",
        "                                              class_mode='categorical'   )\n",
        "test_generator= data_gen.flow_from_directory('/content/PlantVillage',\n",
        "                                            target_size=(img_size,img_size),\n",
        "                                            batch_size=batch_size,\n",
        "                                            subset='validation',\n",
        "                                              class_mode='categorical' )"
      ],
      "metadata": {
        "colab": {
          "base_uri": "https://localhost:8080/"
        },
        "id": "UiWBmTFk5tAZ",
        "outputId": "25ac4ff9-a2c9-495b-ba58-4f903d33cffa"
      },
      "execution_count": null,
      "outputs": [
        {
          "output_type": "stream",
          "name": "stdout",
          "text": [
            "Found 16516 images belonging to 15 classes.\n",
            "Found 4122 images belonging to 15 classes.\n"
          ]
        }
      ]
    },
    {
      "cell_type": "code",
      "source": [
        "from tensorflow.keras import regularizers\n",
        "model=models.Sequential()\n",
        "model.add(layers.Conv2D(32,(3,3),activation='relu',input_shape=(img_size,img_size,3)))\n",
        "model.add(layers.MaxPooling2D((2,2)))\n",
        "model.add(layers.Conv2D(64,(3,3),activation='relu'))\n",
        "model.add(layers.MaxPooling2D((2,2)))\n",
        "\n",
        "model.add(layers.Flatten())\n",
        "model.add(layers.Dense(256,activation='relu'))\n",
        "model.add(layers.Dense(train_generator.num_classes,activation='softmax'))"
      ],
      "metadata": {
        "id": "tTrSKqVO6eOs"
      },
      "execution_count": null,
      "outputs": []
    },
    {
      "cell_type": "code",
      "source": [
        "model.compile(optimizer='adam',loss='categorical_crossentropy',metrics=['accuracy'])"
      ],
      "metadata": {
        "id": "YXn-gEhQ7nZA"
      },
      "execution_count": null,
      "outputs": []
    },
    {
      "cell_type": "code",
      "source": [
        "history=model.fit(train_generator,steps_per_epoch=train_generator.samples // batch_size,epochs=5,validation_data=test_generator,validation_steps=test_generator.samples // batch_size)"
      ],
      "metadata": {
        "colab": {
          "base_uri": "https://localhost:8080/"
        },
        "id": "hbtsb1Dd7sbu",
        "outputId": "1c792f31-4479-4f3c-ca62-37981603784b"
      },
      "execution_count": null,
      "outputs": [
        {
          "output_type": "stream",
          "name": "stdout",
          "text": [
            "Epoch 1/5\n",
            "516/516 [==============================] - 50s 86ms/step - loss: 1.1260 - accuracy: 0.6734 - val_loss: 0.5495 - val_accuracy: 0.8188\n",
            "Epoch 2/5\n",
            "516/516 [==============================] - 40s 77ms/step - loss: 0.3370 - accuracy: 0.8875 - val_loss: 0.5143 - val_accuracy: 0.8276\n",
            "Epoch 3/5\n",
            "516/516 [==============================] - 41s 79ms/step - loss: 0.1442 - accuracy: 0.9533 - val_loss: 0.4467 - val_accuracy: 0.8667\n",
            "Epoch 4/5\n",
            "516/516 [==============================] - 44s 86ms/step - loss: 0.0564 - accuracy: 0.9822 - val_loss: 0.4693 - val_accuracy: 0.8635\n",
            "Epoch 5/5\n",
            "516/516 [==============================] - 42s 82ms/step - loss: 0.0707 - accuracy: 0.9779 - val_loss: 0.5847 - val_accuracy: 0.8542\n"
          ]
        }
      ]
    },
    {
      "cell_type": "code",
      "source": [
        "loss,accuracy=model.evaluate(test_generator)\n",
        "print('test accuracy:',accuracy)"
      ],
      "metadata": {
        "colab": {
          "base_uri": "https://localhost:8080/"
        },
        "id": "nwAxqLvz9LTb",
        "outputId": "60c371f6-fb2e-4bf9-aef3-7e475bd152a4"
      },
      "execution_count": null,
      "outputs": [
        {
          "output_type": "stream",
          "name": "stdout",
          "text": [
            "129/129 [==============================] - 7s 56ms/step - loss: 0.5876 - accuracy: 0.8537\n",
            "test accuracy: 0.8537117838859558\n"
          ]
        }
      ]
    },
    {
      "cell_type": "code",
      "source": [
        "def load_pre_process(image_path,target_size=(224,224)):\n",
        "  img=Image.open(image_path)\n",
        "  img=img.resize(target_size)\n",
        "  img=np.array(img)\n",
        "  img=np.expand_dims(img,axis=0)\n",
        "  img=img.astype('float32')/255.0\n",
        "  return img"
      ],
      "metadata": {
        "id": "L7pGkNo-9X0G"
      },
      "execution_count": null,
      "outputs": []
    },
    {
      "cell_type": "code",
      "source": [
        "def predict_class_names(model,image_path,class_indices):\n",
        "  img=load_pre_process(image_path)\n",
        "  pred=model.predict(img)\n",
        "  predicted_class=np.argmax(pred,axis=1)[0]\n",
        "  predicted_names=class_indices[predicted_class]\n",
        "  return predicted_names"
      ],
      "metadata": {
        "id": "WsbGZ5Hl91UC"
      },
      "execution_count": null,
      "outputs": []
    },
    {
      "cell_type": "code",
      "source": [
        "class_indices={v:k for k,v in train_generator.class_indices.items()}\n",
        "json.dump(class_indices,open('class_indices.json','w'))"
      ],
      "metadata": {
        "id": "je3Dyn-d-f5M"
      },
      "execution_count": null,
      "outputs": []
    },
    {
      "cell_type": "code",
      "source": [],
      "metadata": {
        "id": "RG_uQ0DtE4_b"
      },
      "execution_count": null,
      "outputs": []
    },
    {
      "cell_type": "code",
      "source": [
        "img='/content/PlantVillage/Pepper__bell___healthy/00100ffa-095e-4881-aebf-61fe5af7226e___JR_HL 7886.JPG'\n",
        "print(predict_class_names(model,img,class_indices))"
      ],
      "metadata": {
        "colab": {
          "base_uri": "https://localhost:8080/"
        },
        "id": "Dm6VVJ12-1Ah",
        "outputId": "28f91b0a-16fc-486c-9f1b-5a41f3858d0e"
      },
      "execution_count": null,
      "outputs": [
        {
          "output_type": "stream",
          "name": "stdout",
          "text": [
            "1/1 [==============================] - 0s 18ms/step\n",
            "Pepper__bell___healthy\n"
          ]
        }
      ]
    },
    {
      "cell_type": "code",
      "source": [
        "model.save('plant_disease_model.h5')"
      ],
      "metadata": {
        "colab": {
          "base_uri": "https://localhost:8080/"
        },
        "id": "0dDqVYA-_uF1",
        "outputId": "b269ecb4-0a07-4c3c-b9c9-04d37f6543c2"
      },
      "execution_count": null,
      "outputs": [
        {
          "output_type": "stream",
          "name": "stderr",
          "text": [
            "/usr/local/lib/python3.10/dist-packages/keras/src/engine/training.py:3103: UserWarning: You are saving your model as an HDF5 file via `model.save()`. This file format is considered legacy. We recommend using instead the native Keras format, e.g. `model.save('my_model.keras')`.\n",
            "  saving_api.save_model(\n"
          ]
        }
      ]
    }
  ]
}